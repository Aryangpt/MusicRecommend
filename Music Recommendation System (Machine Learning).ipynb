{
 "cells": [
  {
   "cell_type": "markdown",
   "metadata": {},
   "source": [
    "## Music Recommendation System (KMeans Model)"
   ]
  },
  {
   "cell_type": "markdown",
   "metadata": {},
   "source": [
    "This project is aimed upon building a music recommendation system that gives the user recommendations on music based on his music taste by analysing his previously heard music and playlist."
   ]
  },
  {
   "cell_type": "code",
   "execution_count": 43,
   "metadata": {},
   "outputs": [],
   "source": [
    "import pandas as pd\n",
    "import numpy as np"
   ]
  },
  {
   "cell_type": "code",
   "execution_count": 44,
   "metadata": {},
   "outputs": [],
   "source": [
    "final = pd.read_csv('G:/final.csv')\n",
    "metadata = pd.read_csv('G:/metadata.csv')"
   ]
  },
  {
   "cell_type": "markdown",
   "metadata": {},
   "source": [
    "### Model Selection - K Means Algorithm"
   ]
  },
  {
   "cell_type": "code",
   "execution_count": 45,
   "metadata": {},
   "outputs": [],
   "source": [
    "from sklearn.cluster import KMeans\n",
    "from sklearn.utils import shuffle"
   ]
  },
  {
   "cell_type": "code",
   "execution_count": 46,
   "metadata": {},
   "outputs": [],
   "source": [
    "final = shuffle(final)"
   ]
  },
  {
   "cell_type": "code",
   "execution_count": 47,
   "metadata": {},
   "outputs": [],
   "source": [
    "X = final.loc[[i for i in range(0, 6000)]]\n",
    "Y = final.loc[[i for i in range(6000, final.shape[0])]]"
   ]
  },
  {
   "cell_type": "code",
   "execution_count": 48,
   "metadata": {},
   "outputs": [],
   "source": [
    "X = shuffle(X)\n",
    "Y = shuffle(Y)"
   ]
  },
  {
   "cell_type": "code",
   "execution_count": 49,
   "metadata": {
    "scrolled": true
   },
   "outputs": [
    {
     "data": {
      "text/html": [
       "<div>\n",
       "<style scoped>\n",
       "    .dataframe tbody tr th:only-of-type {\n",
       "        vertical-align: middle;\n",
       "    }\n",
       "\n",
       "    .dataframe tbody tr th {\n",
       "        vertical-align: top;\n",
       "    }\n",
       "\n",
       "    .dataframe thead th {\n",
       "        text-align: right;\n",
       "    }\n",
       "</style>\n",
       "<table border=\"1\" class=\"dataframe\">\n",
       "  <thead>\n",
       "    <tr style=\"text-align: right;\">\n",
       "      <th></th>\n",
       "      <th>track_id</th>\n",
       "      <th>album_title</th>\n",
       "      <th>artist_name</th>\n",
       "      <th>genre</th>\n",
       "      <th>track_title</th>\n",
       "    </tr>\n",
       "  </thead>\n",
       "  <tbody>\n",
       "    <tr>\n",
       "      <th>0</th>\n",
       "      <td>2</td>\n",
       "      <td>AWOL - A Way Of Life</td>\n",
       "      <td>AWOL</td>\n",
       "      <td>HipHop</td>\n",
       "      <td>Food</td>\n",
       "    </tr>\n",
       "    <tr>\n",
       "      <th>1</th>\n",
       "      <td>3</td>\n",
       "      <td>AWOL - A Way Of Life</td>\n",
       "      <td>AWOL</td>\n",
       "      <td>HipHop</td>\n",
       "      <td>Electric Ave</td>\n",
       "    </tr>\n",
       "    <tr>\n",
       "      <th>2</th>\n",
       "      <td>5</td>\n",
       "      <td>AWOL - A Way Of Life</td>\n",
       "      <td>AWOL</td>\n",
       "      <td>HipHop</td>\n",
       "      <td>This World</td>\n",
       "    </tr>\n",
       "    <tr>\n",
       "      <th>3</th>\n",
       "      <td>10</td>\n",
       "      <td>Constant Hitmaker</td>\n",
       "      <td>Kurt Vile</td>\n",
       "      <td>Pop</td>\n",
       "      <td>Freeway</td>\n",
       "    </tr>\n",
       "    <tr>\n",
       "      <th>4</th>\n",
       "      <td>134</td>\n",
       "      <td>AWOL - A Way Of Life</td>\n",
       "      <td>AWOL</td>\n",
       "      <td>HipHop</td>\n",
       "      <td>Street Music</td>\n",
       "    </tr>\n",
       "  </tbody>\n",
       "</table>\n",
       "</div>"
      ],
      "text/plain": [
       "   track_id           album_title artist_name   genre   track_title\n",
       "0         2  AWOL - A Way Of Life        AWOL  HipHop          Food\n",
       "1         3  AWOL - A Way Of Life        AWOL  HipHop  Electric Ave\n",
       "2         5  AWOL - A Way Of Life        AWOL  HipHop    This World\n",
       "3        10     Constant Hitmaker   Kurt Vile     Pop       Freeway\n",
       "4       134  AWOL - A Way Of Life        AWOL  HipHop  Street Music"
      ]
     },
     "execution_count": 49,
     "metadata": {},
     "output_type": "execute_result"
    }
   ],
   "source": [
    "metadata.head()"
   ]
  },
  {
   "cell_type": "code",
   "execution_count": 50,
   "metadata": {},
   "outputs": [],
   "source": [
    "metadata = metadata.set_index('track_id')"
   ]
  },
  {
   "cell_type": "code",
   "execution_count": 51,
   "metadata": {},
   "outputs": [],
   "source": [
    "# X.drop(['label'], axis= 1, inplace= True)"
   ]
  },
  {
   "cell_type": "code",
   "execution_count": 52,
   "metadata": {
    "scrolled": false
   },
   "outputs": [],
   "source": [
    "kmeans = KMeans(n_clusters=6)"
   ]
  },
  {
   "cell_type": "code",
   "execution_count": 53,
   "metadata": {},
   "outputs": [
    {
     "data": {
      "text/html": [
       "<div>\n",
       "<style scoped>\n",
       "    .dataframe tbody tr th:only-of-type {\n",
       "        vertical-align: middle;\n",
       "    }\n",
       "\n",
       "    .dataframe tbody tr th {\n",
       "        vertical-align: top;\n",
       "    }\n",
       "\n",
       "    .dataframe thead th {\n",
       "        text-align: right;\n",
       "    }\n",
       "</style>\n",
       "<table border=\"1\" class=\"dataframe\">\n",
       "  <thead>\n",
       "    <tr style=\"text-align: right;\">\n",
       "      <th></th>\n",
       "      <th>Unnamed: 0</th>\n",
       "      <th>track_id</th>\n",
       "      <th>acousticness</th>\n",
       "      <th>danceability</th>\n",
       "      <th>energy</th>\n",
       "      <th>instrumentalness</th>\n",
       "      <th>liveness</th>\n",
       "      <th>speechiness</th>\n",
       "      <th>tempo</th>\n",
       "      <th>valence</th>\n",
       "      <th>...</th>\n",
       "      <th>Holiday</th>\n",
       "      <th>Salsa</th>\n",
       "      <th>NuJazz</th>\n",
       "      <th>HipHop Beats</th>\n",
       "      <th>Modern Jazz</th>\n",
       "      <th>Turkish</th>\n",
       "      <th>Tango</th>\n",
       "      <th>Fado</th>\n",
       "      <th>Christmas</th>\n",
       "      <th>Instrumental</th>\n",
       "    </tr>\n",
       "  </thead>\n",
       "  <tbody>\n",
       "    <tr>\n",
       "      <th>8164</th>\n",
       "      <td>8164</td>\n",
       "      <td>35553</td>\n",
       "      <td>0.938238</td>\n",
       "      <td>0.596455</td>\n",
       "      <td>0.099731</td>\n",
       "      <td>0.011222</td>\n",
       "      <td>0.121454</td>\n",
       "      <td>0.034656</td>\n",
       "      <td>107.744</td>\n",
       "      <td>0.106295</td>\n",
       "      <td>...</td>\n",
       "      <td>0.0</td>\n",
       "      <td>0.0</td>\n",
       "      <td>0.0</td>\n",
       "      <td>0.0</td>\n",
       "      <td>0.0</td>\n",
       "      <td>0.0</td>\n",
       "      <td>0.0</td>\n",
       "      <td>0.0</td>\n",
       "      <td>0.0</td>\n",
       "      <td>0.0</td>\n",
       "    </tr>\n",
       "    <tr>\n",
       "      <th>9088</th>\n",
       "      <td>9088</td>\n",
       "      <td>40710</td>\n",
       "      <td>0.621373</td>\n",
       "      <td>0.503082</td>\n",
       "      <td>0.736294</td>\n",
       "      <td>0.957138</td>\n",
       "      <td>0.117298</td>\n",
       "      <td>0.071644</td>\n",
       "      <td>97.340</td>\n",
       "      <td>0.557458</td>\n",
       "      <td>...</td>\n",
       "      <td>0.0</td>\n",
       "      <td>0.0</td>\n",
       "      <td>0.0</td>\n",
       "      <td>0.0</td>\n",
       "      <td>0.0</td>\n",
       "      <td>0.0</td>\n",
       "      <td>0.0</td>\n",
       "      <td>0.0</td>\n",
       "      <td>0.0</td>\n",
       "      <td>0.0</td>\n",
       "    </tr>\n",
       "    <tr>\n",
       "      <th>10157</th>\n",
       "      <td>10157</td>\n",
       "      <td>47071</td>\n",
       "      <td>0.789687</td>\n",
       "      <td>0.599050</td>\n",
       "      <td>0.539278</td>\n",
       "      <td>0.064226</td>\n",
       "      <td>0.154878</td>\n",
       "      <td>0.040623</td>\n",
       "      <td>121.111</td>\n",
       "      <td>0.923775</td>\n",
       "      <td>...</td>\n",
       "      <td>0.0</td>\n",
       "      <td>0.0</td>\n",
       "      <td>0.0</td>\n",
       "      <td>0.0</td>\n",
       "      <td>0.0</td>\n",
       "      <td>0.0</td>\n",
       "      <td>0.0</td>\n",
       "      <td>0.0</td>\n",
       "      <td>0.0</td>\n",
       "      <td>0.0</td>\n",
       "    </tr>\n",
       "    <tr>\n",
       "      <th>9549</th>\n",
       "      <td>9549</td>\n",
       "      <td>43096</td>\n",
       "      <td>0.885631</td>\n",
       "      <td>0.505148</td>\n",
       "      <td>0.213765</td>\n",
       "      <td>0.231073</td>\n",
       "      <td>0.097758</td>\n",
       "      <td>0.039608</td>\n",
       "      <td>107.542</td>\n",
       "      <td>0.069409</td>\n",
       "      <td>...</td>\n",
       "      <td>0.0</td>\n",
       "      <td>0.0</td>\n",
       "      <td>0.0</td>\n",
       "      <td>0.0</td>\n",
       "      <td>0.0</td>\n",
       "      <td>0.0</td>\n",
       "      <td>0.0</td>\n",
       "      <td>0.0</td>\n",
       "      <td>0.0</td>\n",
       "      <td>0.0</td>\n",
       "    </tr>\n",
       "    <tr>\n",
       "      <th>6269</th>\n",
       "      <td>6269</td>\n",
       "      <td>26030</td>\n",
       "      <td>0.969903</td>\n",
       "      <td>0.251260</td>\n",
       "      <td>0.160805</td>\n",
       "      <td>0.854744</td>\n",
       "      <td>0.111477</td>\n",
       "      <td>0.031765</td>\n",
       "      <td>146.809</td>\n",
       "      <td>0.103640</td>\n",
       "      <td>...</td>\n",
       "      <td>0.0</td>\n",
       "      <td>0.0</td>\n",
       "      <td>0.0</td>\n",
       "      <td>0.0</td>\n",
       "      <td>0.0</td>\n",
       "      <td>0.0</td>\n",
       "      <td>0.0</td>\n",
       "      <td>0.0</td>\n",
       "      <td>0.0</td>\n",
       "      <td>0.0</td>\n",
       "    </tr>\n",
       "  </tbody>\n",
       "</table>\n",
       "<p>5 rows × 930 columns</p>\n",
       "</div>"
      ],
      "text/plain": [
       "       Unnamed: 0  track_id  acousticness  danceability    energy  \\\n",
       "8164         8164     35553      0.938238      0.596455  0.099731   \n",
       "9088         9088     40710      0.621373      0.503082  0.736294   \n",
       "10157       10157     47071      0.789687      0.599050  0.539278   \n",
       "9549         9549     43096      0.885631      0.505148  0.213765   \n",
       "6269         6269     26030      0.969903      0.251260  0.160805   \n",
       "\n",
       "       instrumentalness  liveness  speechiness    tempo   valence  ...  \\\n",
       "8164           0.011222  0.121454     0.034656  107.744  0.106295  ...   \n",
       "9088           0.957138  0.117298     0.071644   97.340  0.557458  ...   \n",
       "10157          0.064226  0.154878     0.040623  121.111  0.923775  ...   \n",
       "9549           0.231073  0.097758     0.039608  107.542  0.069409  ...   \n",
       "6269           0.854744  0.111477     0.031765  146.809  0.103640  ...   \n",
       "\n",
       "       Holiday  Salsa  NuJazz  HipHop Beats  Modern Jazz  Turkish  Tango  \\\n",
       "8164       0.0    0.0     0.0           0.0          0.0      0.0    0.0   \n",
       "9088       0.0    0.0     0.0           0.0          0.0      0.0    0.0   \n",
       "10157      0.0    0.0     0.0           0.0          0.0      0.0    0.0   \n",
       "9549       0.0    0.0     0.0           0.0          0.0      0.0    0.0   \n",
       "6269       0.0    0.0     0.0           0.0          0.0      0.0    0.0   \n",
       "\n",
       "       Fado  Christmas  Instrumental  \n",
       "8164    0.0        0.0           0.0  \n",
       "9088    0.0        0.0           0.0  \n",
       "10157   0.0        0.0           0.0  \n",
       "9549    0.0        0.0           0.0  \n",
       "6269    0.0        0.0           0.0  \n",
       "\n",
       "[5 rows x 930 columns]"
      ]
     },
     "execution_count": 53,
     "metadata": {},
     "output_type": "execute_result"
    }
   ],
   "source": [
    "Y.head()"
   ]
  },
  {
   "cell_type": "code",
   "execution_count": 54,
   "metadata": {},
   "outputs": [],
   "source": [
    "def fit(df, algo, flag=0):\n",
    "    if flag:\n",
    "        algo.fit(df)\n",
    "    else:\n",
    "         algo.partial_fit(df)          \n",
    "    df['label'] = algo.labels_\n",
    "    return (df, algo)"
   ]
  },
  {
   "cell_type": "code",
   "execution_count": 55,
   "metadata": {},
   "outputs": [],
   "source": [
    "\n",
    "def predict(t, Y):\n",
    "    y_pred = t[1].predict(Y)\n",
    "    mode = pd.Series(y_pred).mode()\n",
    "    return t[0][t[0]['label'] == mode.loc[0]]"
   ]
  },
  {
   "cell_type": "code",
   "execution_count": 56,
   "metadata": {},
   "outputs": [],
   "source": [
    "def recommend(recommendations, meta, Y):\n",
    "    dat = []\n",
    "    for i in Y['track_id']:\n",
    "        dat.append(i)\n",
    "    genre_mode = meta.loc[dat]['genre'].mode()\n",
    "    artist_mode = meta.loc[dat]['artist_name'].mode()\n",
    "    return meta[meta['genre'] == genre_mode.iloc[0]], meta[meta['artist_name'] == artist_mode.iloc[0]], meta.loc[recommendations['track_id']]"
   ]
  },
  {
   "cell_type": "code",
   "execution_count": 57,
   "metadata": {},
   "outputs": [
    {
     "name": "stderr",
     "output_type": "stream",
     "text": [
      "C:\\Users\\aryan\\anaconda3\\lib\\site-packages\\sklearn\\cluster\\_kmeans.py:870: FutureWarning: The default value of `n_init` will change from 10 to 'auto' in 1.4. Set the value of `n_init` explicitly to suppress the warning\n",
      "  warnings.warn(\n"
     ]
    }
   ],
   "source": [
    "t = fit(X, kmeans, 1)"
   ]
  },
  {
   "cell_type": "code",
   "execution_count": 58,
   "metadata": {},
   "outputs": [],
   "source": [
    "recommendations = predict(t, Y)"
   ]
  },
  {
   "cell_type": "code",
   "execution_count": 59,
   "metadata": {},
   "outputs": [],
   "source": [
    "output = recommend(recommendations, metadata, Y)"
   ]
  },
  {
   "cell_type": "code",
   "execution_count": 60,
   "metadata": {},
   "outputs": [],
   "source": [
    "genre_recommend, artist_name_recommend, mixed_recommend = output[0], output[1], output[2]"
   ]
  },
  {
   "cell_type": "code",
   "execution_count": 61,
   "metadata": {},
   "outputs": [
    {
     "data": {
      "text/plain": [
       "(3892, 4)"
      ]
     },
     "execution_count": 61,
     "metadata": {},
     "output_type": "execute_result"
    }
   ],
   "source": [
    "genre_recommend.shape"
   ]
  },
  {
   "cell_type": "code",
   "execution_count": 62,
   "metadata": {},
   "outputs": [
    {
     "data": {
      "text/plain": [
       "(52, 4)"
      ]
     },
     "execution_count": 62,
     "metadata": {},
     "output_type": "execute_result"
    }
   ],
   "source": [
    "artist_name_recommend.shape"
   ]
  },
  {
   "cell_type": "code",
   "execution_count": 63,
   "metadata": {},
   "outputs": [
    {
     "data": {
      "text/plain": [
       "(1148, 4)"
      ]
     },
     "execution_count": 63,
     "metadata": {},
     "output_type": "execute_result"
    }
   ],
   "source": [
    "mixed_recommend.shape"
   ]
  },
  {
   "cell_type": "code",
   "execution_count": 64,
   "metadata": {},
   "outputs": [
    {
     "data": {
      "text/html": [
       "<div>\n",
       "<style scoped>\n",
       "    .dataframe tbody tr th:only-of-type {\n",
       "        vertical-align: middle;\n",
       "    }\n",
       "\n",
       "    .dataframe tbody tr th {\n",
       "        vertical-align: top;\n",
       "    }\n",
       "\n",
       "    .dataframe thead th {\n",
       "        text-align: right;\n",
       "    }\n",
       "</style>\n",
       "<table border=\"1\" class=\"dataframe\">\n",
       "  <thead>\n",
       "    <tr style=\"text-align: right;\">\n",
       "      <th></th>\n",
       "      <th>album_title</th>\n",
       "      <th>artist_name</th>\n",
       "      <th>genre</th>\n",
       "      <th>track_title</th>\n",
       "    </tr>\n",
       "    <tr>\n",
       "      <th>track_id</th>\n",
       "      <th></th>\n",
       "      <th></th>\n",
       "      <th></th>\n",
       "      <th></th>\n",
       "    </tr>\n",
       "  </thead>\n",
       "  <tbody>\n",
       "    <tr>\n",
       "      <th>153</th>\n",
       "      <td>Arc and Sender</td>\n",
       "      <td>Arc and Sender</td>\n",
       "      <td>Rock</td>\n",
       "      <td>Hundred-Year Flood</td>\n",
       "    </tr>\n",
       "    <tr>\n",
       "      <th>154</th>\n",
       "      <td>Arc and Sender</td>\n",
       "      <td>Arc and Sender</td>\n",
       "      <td>Rock</td>\n",
       "      <td>Squares And Circles</td>\n",
       "    </tr>\n",
       "    <tr>\n",
       "      <th>155</th>\n",
       "      <td>unreleased demo</td>\n",
       "      <td>Arc and Sender</td>\n",
       "      <td>Rock</td>\n",
       "      <td>Maps of the Stars Homes</td>\n",
       "    </tr>\n",
       "    <tr>\n",
       "      <th>169</th>\n",
       "      <td>Boss of Goth</td>\n",
       "      <td>Argumentix</td>\n",
       "      <td>Rock</td>\n",
       "      <td>Boss of Goth</td>\n",
       "    </tr>\n",
       "    <tr>\n",
       "      <th>170</th>\n",
       "      <td>Nightmarcher</td>\n",
       "      <td>Argumentix</td>\n",
       "      <td>Rock</td>\n",
       "      <td>Industry Standard Massacre</td>\n",
       "    </tr>\n",
       "  </tbody>\n",
       "</table>\n",
       "</div>"
      ],
      "text/plain": [
       "              album_title     artist_name genre                 track_title\n",
       "track_id                                                                   \n",
       "153        Arc and Sender  Arc and Sender  Rock          Hundred-Year Flood\n",
       "154        Arc and Sender  Arc and Sender  Rock         Squares And Circles\n",
       "155       unreleased demo  Arc and Sender  Rock     Maps of the Stars Homes\n",
       "169          Boss of Goth      Argumentix  Rock                Boss of Goth\n",
       "170          Nightmarcher      Argumentix  Rock  Industry Standard Massacre"
      ]
     },
     "execution_count": 64,
     "metadata": {},
     "output_type": "execute_result"
    }
   ],
   "source": [
    "# Genre wise recommendations\n",
    "genre_recommend.head()"
   ]
  },
  {
   "cell_type": "code",
   "execution_count": 65,
   "metadata": {
    "scrolled": true
   },
   "outputs": [
    {
     "data": {
      "text/html": [
       "<div>\n",
       "<style scoped>\n",
       "    .dataframe tbody tr th:only-of-type {\n",
       "        vertical-align: middle;\n",
       "    }\n",
       "\n",
       "    .dataframe tbody tr th {\n",
       "        vertical-align: top;\n",
       "    }\n",
       "\n",
       "    .dataframe thead th {\n",
       "        text-align: right;\n",
       "    }\n",
       "</style>\n",
       "<table border=\"1\" class=\"dataframe\">\n",
       "  <thead>\n",
       "    <tr style=\"text-align: right;\">\n",
       "      <th></th>\n",
       "      <th>album_title</th>\n",
       "      <th>artist_name</th>\n",
       "      <th>genre</th>\n",
       "      <th>track_title</th>\n",
       "    </tr>\n",
       "    <tr>\n",
       "      <th>track_id</th>\n",
       "      <th></th>\n",
       "      <th></th>\n",
       "      <th></th>\n",
       "      <th></th>\n",
       "    </tr>\n",
       "  </thead>\n",
       "  <tbody>\n",
       "    <tr>\n",
       "      <th>34660</th>\n",
       "      <td>Zehu</td>\n",
       "      <td>51%</td>\n",
       "      <td>AvantGarde|International|Blues|Jazz|</td>\n",
       "      <td>Hadri Ha'Kat</td>\n",
       "    </tr>\n",
       "    <tr>\n",
       "      <th>34661</th>\n",
       "      <td>Zehu</td>\n",
       "      <td>51%</td>\n",
       "      <td>AvantGarde|International|Blues|Jazz|</td>\n",
       "      <td>Blender Tzivoni</td>\n",
       "    </tr>\n",
       "    <tr>\n",
       "      <th>34662</th>\n",
       "      <td>Zehu</td>\n",
       "      <td>51%</td>\n",
       "      <td>AvantGarde|International|Blues|Jazz|</td>\n",
       "      <td>Naniah</td>\n",
       "    </tr>\n",
       "    <tr>\n",
       "      <th>34663</th>\n",
       "      <td>Zehu</td>\n",
       "      <td>51%</td>\n",
       "      <td>AvantGarde|International|Blues|Jazz|</td>\n",
       "      <td>Yoter Miday</td>\n",
       "    </tr>\n",
       "    <tr>\n",
       "      <th>34664</th>\n",
       "      <td>Zehu</td>\n",
       "      <td>51%</td>\n",
       "      <td>AvantGarde|International|Blues|Jazz|</td>\n",
       "      <td>Yamim, Lielot</td>\n",
       "    </tr>\n",
       "  </tbody>\n",
       "</table>\n",
       "</div>"
      ],
      "text/plain": [
       "         album_title artist_name                                 genre  \\\n",
       "track_id                                                                 \n",
       "34660           Zehu         51%  AvantGarde|International|Blues|Jazz|   \n",
       "34661           Zehu         51%  AvantGarde|International|Blues|Jazz|   \n",
       "34662           Zehu         51%  AvantGarde|International|Blues|Jazz|   \n",
       "34663           Zehu         51%  AvantGarde|International|Blues|Jazz|   \n",
       "34664           Zehu         51%  AvantGarde|International|Blues|Jazz|   \n",
       "\n",
       "              track_title  \n",
       "track_id                   \n",
       "34660        Hadri Ha'Kat  \n",
       "34661     Blender Tzivoni  \n",
       "34662              Naniah  \n",
       "34663         Yoter Miday  \n",
       "34664       Yamim, Lielot  "
      ]
     },
     "execution_count": 65,
     "metadata": {},
     "output_type": "execute_result"
    }
   ],
   "source": [
    "# Artist wise recommendations\n",
    "artist_name_recommend.head()"
   ]
  },
  {
   "cell_type": "code",
   "execution_count": 66,
   "metadata": {},
   "outputs": [
    {
     "data": {
      "text/html": [
       "<div>\n",
       "<style scoped>\n",
       "    .dataframe tbody tr th:only-of-type {\n",
       "        vertical-align: middle;\n",
       "    }\n",
       "\n",
       "    .dataframe tbody tr th {\n",
       "        vertical-align: top;\n",
       "    }\n",
       "\n",
       "    .dataframe thead th {\n",
       "        text-align: right;\n",
       "    }\n",
       "</style>\n",
       "<table border=\"1\" class=\"dataframe\">\n",
       "  <thead>\n",
       "    <tr style=\"text-align: right;\">\n",
       "      <th></th>\n",
       "      <th>album_title</th>\n",
       "      <th>artist_name</th>\n",
       "      <th>genre</th>\n",
       "      <th>track_title</th>\n",
       "    </tr>\n",
       "    <tr>\n",
       "      <th>track_id</th>\n",
       "      <th></th>\n",
       "      <th></th>\n",
       "      <th></th>\n",
       "      <th></th>\n",
       "    </tr>\n",
       "  </thead>\n",
       "  <tbody>\n",
       "    <tr>\n",
       "      <th>13201</th>\n",
       "      <td>netBloc Vol. 10: Postmodernism is dead. Postmi...</td>\n",
       "      <td>Ghostown</td>\n",
       "      <td>HipHop</td>\n",
       "      <td>Moy Moy Moy</td>\n",
       "    </tr>\n",
       "    <tr>\n",
       "      <th>13566</th>\n",
       "      <td>netBloc Vol. 04: Soundtrack for the Coming Rev...</td>\n",
       "      <td>Sun Zoo</td>\n",
       "      <td>HipHop</td>\n",
       "      <td>New Pirates (featuring DJ HDL)</td>\n",
       "    </tr>\n",
       "    <tr>\n",
       "      <th>17021</th>\n",
       "      <td>Split with Jake Vida</td>\n",
       "      <td>Tusk Lord</td>\n",
       "      <td>AvantGarde|International|</td>\n",
       "      <td>Tidal Bore</td>\n",
       "    </tr>\n",
       "    <tr>\n",
       "      <th>14694</th>\n",
       "      <td>Behold My Puny Bears, Vol. I</td>\n",
       "      <td>Het Gloren</td>\n",
       "      <td>AvantGarde|International|</td>\n",
       "      <td>Als Je Lacht</td>\n",
       "    </tr>\n",
       "    <tr>\n",
       "      <th>9187</th>\n",
       "      <td>Live at WFMU/Aquarius SXSW show 3/20/2009</td>\n",
       "      <td>Gunslingers</td>\n",
       "      <td>Rock</td>\n",
       "      <td>(title unknown)</td>\n",
       "    </tr>\n",
       "  </tbody>\n",
       "</table>\n",
       "</div>"
      ],
      "text/plain": [
       "                                                album_title  artist_name  \\\n",
       "track_id                                                                   \n",
       "13201     netBloc Vol. 10: Postmodernism is dead. Postmi...     Ghostown   \n",
       "13566     netBloc Vol. 04: Soundtrack for the Coming Rev...      Sun Zoo   \n",
       "17021                                  Split with Jake Vida    Tusk Lord   \n",
       "14694                          Behold My Puny Bears, Vol. I   Het Gloren   \n",
       "9187              Live at WFMU/Aquarius SXSW show 3/20/2009  Gunslingers   \n",
       "\n",
       "                              genre                     track_title  \n",
       "track_id                                                             \n",
       "13201                        HipHop                     Moy Moy Moy  \n",
       "13566                        HipHop  New Pirates (featuring DJ HDL)  \n",
       "17021     AvantGarde|International|                      Tidal Bore  \n",
       "14694     AvantGarde|International|                    Als Je Lacht  \n",
       "9187                           Rock                 (title unknown)  "
      ]
     },
     "execution_count": 66,
     "metadata": {},
     "output_type": "execute_result"
    }
   ],
   "source": [
    "# Mixed Recommendations\n",
    "mixed_recommend.head()"
   ]
  },
  {
   "cell_type": "code",
   "execution_count": 67,
   "metadata": {},
   "outputs": [
    {
     "data": {
      "text/html": [
       "<div>\n",
       "<style scoped>\n",
       "    .dataframe tbody tr th:only-of-type {\n",
       "        vertical-align: middle;\n",
       "    }\n",
       "\n",
       "    .dataframe tbody tr th {\n",
       "        vertical-align: top;\n",
       "    }\n",
       "\n",
       "    .dataframe thead th {\n",
       "        text-align: right;\n",
       "    }\n",
       "</style>\n",
       "<table border=\"1\" class=\"dataframe\">\n",
       "  <thead>\n",
       "    <tr style=\"text-align: right;\">\n",
       "      <th></th>\n",
       "      <th>Unnamed: 0</th>\n",
       "      <th>track_id</th>\n",
       "      <th>acousticness</th>\n",
       "      <th>danceability</th>\n",
       "      <th>energy</th>\n",
       "      <th>instrumentalness</th>\n",
       "      <th>liveness</th>\n",
       "      <th>speechiness</th>\n",
       "      <th>tempo</th>\n",
       "      <th>valence</th>\n",
       "      <th>...</th>\n",
       "      <th>Salsa</th>\n",
       "      <th>NuJazz</th>\n",
       "      <th>HipHop Beats</th>\n",
       "      <th>Modern Jazz</th>\n",
       "      <th>Turkish</th>\n",
       "      <th>Tango</th>\n",
       "      <th>Fado</th>\n",
       "      <th>Christmas</th>\n",
       "      <th>Instrumental</th>\n",
       "      <th>label</th>\n",
       "    </tr>\n",
       "  </thead>\n",
       "  <tbody>\n",
       "    <tr>\n",
       "      <th>3321</th>\n",
       "      <td>3321</td>\n",
       "      <td>13201</td>\n",
       "      <td>0.252772</td>\n",
       "      <td>0.650640</td>\n",
       "      <td>0.379765</td>\n",
       "      <td>0.558373</td>\n",
       "      <td>0.087998</td>\n",
       "      <td>0.124143</td>\n",
       "      <td>196.093</td>\n",
       "      <td>0.396997</td>\n",
       "      <td>...</td>\n",
       "      <td>0.0</td>\n",
       "      <td>0.0</td>\n",
       "      <td>0.0</td>\n",
       "      <td>0.0</td>\n",
       "      <td>0.0</td>\n",
       "      <td>0.0</td>\n",
       "      <td>0.0</td>\n",
       "      <td>0.0</td>\n",
       "      <td>0.0</td>\n",
       "      <td>2</td>\n",
       "    </tr>\n",
       "    <tr>\n",
       "      <th>3386</th>\n",
       "      <td>3386</td>\n",
       "      <td>13566</td>\n",
       "      <td>0.397475</td>\n",
       "      <td>0.712468</td>\n",
       "      <td>0.262428</td>\n",
       "      <td>0.004183</td>\n",
       "      <td>0.288973</td>\n",
       "      <td>0.278828</td>\n",
       "      <td>93.022</td>\n",
       "      <td>0.396053</td>\n",
       "      <td>...</td>\n",
       "      <td>0.0</td>\n",
       "      <td>0.0</td>\n",
       "      <td>0.0</td>\n",
       "      <td>0.0</td>\n",
       "      <td>0.0</td>\n",
       "      <td>0.0</td>\n",
       "      <td>0.0</td>\n",
       "      <td>0.0</td>\n",
       "      <td>0.0</td>\n",
       "      <td>2</td>\n",
       "    </tr>\n",
       "    <tr>\n",
       "      <th>4321</th>\n",
       "      <td>4321</td>\n",
       "      <td>17021</td>\n",
       "      <td>0.688388</td>\n",
       "      <td>0.196310</td>\n",
       "      <td>0.465892</td>\n",
       "      <td>0.941985</td>\n",
       "      <td>0.108535</td>\n",
       "      <td>0.139271</td>\n",
       "      <td>155.059</td>\n",
       "      <td>0.030413</td>\n",
       "      <td>...</td>\n",
       "      <td>0.0</td>\n",
       "      <td>0.0</td>\n",
       "      <td>0.0</td>\n",
       "      <td>0.0</td>\n",
       "      <td>0.0</td>\n",
       "      <td>0.0</td>\n",
       "      <td>0.0</td>\n",
       "      <td>0.0</td>\n",
       "      <td>0.0</td>\n",
       "      <td>2</td>\n",
       "    </tr>\n",
       "    <tr>\n",
       "      <th>3723</th>\n",
       "      <td>3723</td>\n",
       "      <td>14694</td>\n",
       "      <td>0.783306</td>\n",
       "      <td>0.798496</td>\n",
       "      <td>0.048738</td>\n",
       "      <td>0.005568</td>\n",
       "      <td>0.111024</td>\n",
       "      <td>0.276807</td>\n",
       "      <td>114.486</td>\n",
       "      <td>0.270551</td>\n",
       "      <td>...</td>\n",
       "      <td>0.0</td>\n",
       "      <td>0.0</td>\n",
       "      <td>0.0</td>\n",
       "      <td>0.0</td>\n",
       "      <td>0.0</td>\n",
       "      <td>0.0</td>\n",
       "      <td>0.0</td>\n",
       "      <td>0.0</td>\n",
       "      <td>0.0</td>\n",
       "      <td>2</td>\n",
       "    </tr>\n",
       "    <tr>\n",
       "      <th>2292</th>\n",
       "      <td>2292</td>\n",
       "      <td>9187</td>\n",
       "      <td>0.066027</td>\n",
       "      <td>0.141055</td>\n",
       "      <td>0.732551</td>\n",
       "      <td>0.879857</td>\n",
       "      <td>0.089751</td>\n",
       "      <td>0.043404</td>\n",
       "      <td>181.778</td>\n",
       "      <td>0.201118</td>\n",
       "      <td>...</td>\n",
       "      <td>0.0</td>\n",
       "      <td>0.0</td>\n",
       "      <td>0.0</td>\n",
       "      <td>0.0</td>\n",
       "      <td>0.0</td>\n",
       "      <td>0.0</td>\n",
       "      <td>0.0</td>\n",
       "      <td>0.0</td>\n",
       "      <td>0.0</td>\n",
       "      <td>2</td>\n",
       "    </tr>\n",
       "  </tbody>\n",
       "</table>\n",
       "<p>5 rows × 931 columns</p>\n",
       "</div>"
      ],
      "text/plain": [
       "      Unnamed: 0  track_id  acousticness  danceability    energy  \\\n",
       "3321        3321     13201      0.252772      0.650640  0.379765   \n",
       "3386        3386     13566      0.397475      0.712468  0.262428   \n",
       "4321        4321     17021      0.688388      0.196310  0.465892   \n",
       "3723        3723     14694      0.783306      0.798496  0.048738   \n",
       "2292        2292      9187      0.066027      0.141055  0.732551   \n",
       "\n",
       "      instrumentalness  liveness  speechiness    tempo   valence  ...  Salsa  \\\n",
       "3321          0.558373  0.087998     0.124143  196.093  0.396997  ...    0.0   \n",
       "3386          0.004183  0.288973     0.278828   93.022  0.396053  ...    0.0   \n",
       "4321          0.941985  0.108535     0.139271  155.059  0.030413  ...    0.0   \n",
       "3723          0.005568  0.111024     0.276807  114.486  0.270551  ...    0.0   \n",
       "2292          0.879857  0.089751     0.043404  181.778  0.201118  ...    0.0   \n",
       "\n",
       "      NuJazz  HipHop Beats  Modern Jazz  Turkish  Tango  Fado  Christmas  \\\n",
       "3321     0.0           0.0          0.0      0.0    0.0   0.0        0.0   \n",
       "3386     0.0           0.0          0.0      0.0    0.0   0.0        0.0   \n",
       "4321     0.0           0.0          0.0      0.0    0.0   0.0        0.0   \n",
       "3723     0.0           0.0          0.0      0.0    0.0   0.0        0.0   \n",
       "2292     0.0           0.0          0.0      0.0    0.0   0.0        0.0   \n",
       "\n",
       "      Instrumental  label  \n",
       "3321           0.0      2  \n",
       "3386           0.0      2  \n",
       "4321           0.0      2  \n",
       "3723           0.0      2  \n",
       "2292           0.0      2  \n",
       "\n",
       "[5 rows x 931 columns]"
      ]
     },
     "execution_count": 67,
     "metadata": {},
     "output_type": "execute_result"
    }
   ],
   "source": [
    "recommendations.head()"
   ]
  },
  {
   "cell_type": "code",
   "execution_count": 68,
   "metadata": {},
   "outputs": [
    {
     "data": {
      "text/plain": [
       "51%    52\n",
       "Name: artist_name, dtype: int64"
      ]
     },
     "execution_count": 68,
     "metadata": {},
     "output_type": "execute_result"
    }
   ],
   "source": [
    "artist_name_recommend['artist_name'].value_counts()"
   ]
  },
  {
   "cell_type": "code",
   "execution_count": 27,
   "metadata": {},
   "outputs": [
    {
     "data": {
      "text/plain": [
       "Rock    3892\n",
       "Name: genre, dtype: int64"
      ]
     },
     "execution_count": 27,
     "metadata": {},
     "output_type": "execute_result"
    }
   ],
   "source": [
    "genre_recommend['genre'].value_counts()"
   ]
  },
  {
   "cell_type": "code",
   "execution_count": 28,
   "metadata": {},
   "outputs": [
    {
     "data": {
      "text/plain": [
       "Glove Compartment               65\n",
       "Blah Blah Blah                  62\n",
       "Mors Ontologica                 50\n",
       "Les Baudouins Morts             38\n",
       "Kraus                           35\n",
       "                                ..\n",
       "Alone in 1982                    1\n",
       "Ostrich Tuning                   1\n",
       "The Dalai Lama Rama Fa Fa Fa     1\n",
       "The Rusty Bells                  1\n",
       "Lost Boy                         1\n",
       "Name: artist_name, Length: 725, dtype: int64"
      ]
     },
     "execution_count": 28,
     "metadata": {},
     "output_type": "execute_result"
    }
   ],
   "source": [
    "genre_recommend['artist_name'].value_counts()"
   ]
  },
  {
   "cell_type": "markdown",
   "metadata": {},
   "source": [
    "#### Testing"
   ]
  },
  {
   "cell_type": "code",
   "execution_count": 29,
   "metadata": {},
   "outputs": [],
   "source": [
    "testing = Y.iloc[6:12]['track_id']"
   ]
  },
  {
   "cell_type": "code",
   "execution_count": 30,
   "metadata": {},
   "outputs": [
    {
     "data": {
      "text/plain": [
       "11573    68314\n",
       "6758     28833\n",
       "6008     24427\n",
       "10212    47392\n",
       "11305    62860\n",
       "7871     33630\n",
       "Name: track_id, dtype: int64"
      ]
     },
     "execution_count": 30,
     "metadata": {},
     "output_type": "execute_result"
    }
   ],
   "source": [
    "testing"
   ]
  },
  {
   "cell_type": "code",
   "execution_count": 31,
   "metadata": {},
   "outputs": [],
   "source": [
    "ids = testing.loc[testing.index]"
   ]
  },
  {
   "cell_type": "code",
   "execution_count": 32,
   "metadata": {},
   "outputs": [],
   "source": [
    "songs = metadata.loc[testing.loc[list(testing.index)]]"
   ]
  },
  {
   "cell_type": "code",
   "execution_count": 33,
   "metadata": {},
   "outputs": [
    {
     "data": {
      "text/html": [
       "<div>\n",
       "<style scoped>\n",
       "    .dataframe tbody tr th:only-of-type {\n",
       "        vertical-align: middle;\n",
       "    }\n",
       "\n",
       "    .dataframe tbody tr th {\n",
       "        vertical-align: top;\n",
       "    }\n",
       "\n",
       "    .dataframe thead th {\n",
       "        text-align: right;\n",
       "    }\n",
       "</style>\n",
       "<table border=\"1\" class=\"dataframe\">\n",
       "  <thead>\n",
       "    <tr style=\"text-align: right;\">\n",
       "      <th></th>\n",
       "      <th>album_title</th>\n",
       "      <th>artist_name</th>\n",
       "      <th>genre</th>\n",
       "      <th>track_title</th>\n",
       "    </tr>\n",
       "    <tr>\n",
       "      <th>track_id</th>\n",
       "      <th></th>\n",
       "      <th></th>\n",
       "      <th></th>\n",
       "      <th></th>\n",
       "    </tr>\n",
       "  </thead>\n",
       "  <tbody>\n",
       "    <tr>\n",
       "      <th>68314</th>\n",
       "      <td>Live at WFMU on Scott Williams' Show July 23rd...</td>\n",
       "      <td>Dirty Beaches</td>\n",
       "      <td>AvantGarde|International|Blues|</td>\n",
       "      <td>Sweet 17</td>\n",
       "    </tr>\n",
       "    <tr>\n",
       "      <th>28833</th>\n",
       "      <td>The Excluded Middle</td>\n",
       "      <td>MYTY KONKEROR</td>\n",
       "      <td>Rock</td>\n",
       "      <td>Listen if You Linger</td>\n",
       "    </tr>\n",
       "    <tr>\n",
       "      <th>24427</th>\n",
       "      <td>Free Beats Sel. 3</td>\n",
       "      <td>Black Ant</td>\n",
       "      <td>HipHop</td>\n",
       "      <td>Michael Vendette</td>\n",
       "    </tr>\n",
       "    <tr>\n",
       "      <th>47392</th>\n",
       "      <td>Live @ WFMU on the Three Chord Monte with Joe ...</td>\n",
       "      <td>Overnight Lows</td>\n",
       "      <td>Rock</td>\n",
       "      <td>[Track 7]</td>\n",
       "    </tr>\n",
       "    <tr>\n",
       "      <th>62860</th>\n",
       "      <td>Live on WFMU from Beerland, Austin TX 3/17/2012</td>\n",
       "      <td>The Men</td>\n",
       "      <td>Rock</td>\n",
       "      <td>Ex-Dreams</td>\n",
       "    </tr>\n",
       "    <tr>\n",
       "      <th>33630</th>\n",
       "      <td>Intelligent Toys: We Make Music</td>\n",
       "      <td>Broken Chord</td>\n",
       "      <td>Electronic</td>\n",
       "      <td>Improvisation</td>\n",
       "    </tr>\n",
       "  </tbody>\n",
       "</table>\n",
       "</div>"
      ],
      "text/plain": [
       "                                                album_title     artist_name  \\\n",
       "track_id                                                                      \n",
       "68314     Live at WFMU on Scott Williams' Show July 23rd...   Dirty Beaches   \n",
       "28833                                   The Excluded Middle   MYTY KONKEROR   \n",
       "24427                                     Free Beats Sel. 3       Black Ant   \n",
       "47392     Live @ WFMU on the Three Chord Monte with Joe ...  Overnight Lows   \n",
       "62860       Live on WFMU from Beerland, Austin TX 3/17/2012         The Men   \n",
       "33630                       Intelligent Toys: We Make Music    Broken Chord   \n",
       "\n",
       "                                    genre           track_title  \n",
       "track_id                                                         \n",
       "68314     AvantGarde|International|Blues|              Sweet 17  \n",
       "28833                                Rock  Listen if You Linger  \n",
       "24427                              HipHop      Michael Vendette  \n",
       "47392                                Rock             [Track 7]  \n",
       "62860                                Rock             Ex-Dreams  \n",
       "33630                          Electronic         Improvisation  "
      ]
     },
     "execution_count": 33,
     "metadata": {},
     "output_type": "execute_result"
    }
   ],
   "source": [
    "songs"
   ]
  },
  {
   "cell_type": "code",
   "execution_count": 34,
   "metadata": {},
   "outputs": [],
   "source": [
    "re = predict(t, Y.iloc[6:12])"
   ]
  },
  {
   "cell_type": "code",
   "execution_count": 35,
   "metadata": {},
   "outputs": [],
   "source": [
    "output = recommend(re, metadata, Y.iloc[6:12])"
   ]
  },
  {
   "cell_type": "code",
   "execution_count": 36,
   "metadata": {},
   "outputs": [],
   "source": [
    "ge_re, ge_ar, ge_mix = output[0], output[1], output[2]"
   ]
  },
  {
   "cell_type": "code",
   "execution_count": 37,
   "metadata": {},
   "outputs": [
    {
     "data": {
      "text/html": [
       "<div>\n",
       "<style scoped>\n",
       "    .dataframe tbody tr th:only-of-type {\n",
       "        vertical-align: middle;\n",
       "    }\n",
       "\n",
       "    .dataframe tbody tr th {\n",
       "        vertical-align: top;\n",
       "    }\n",
       "\n",
       "    .dataframe thead th {\n",
       "        text-align: right;\n",
       "    }\n",
       "</style>\n",
       "<table border=\"1\" class=\"dataframe\">\n",
       "  <thead>\n",
       "    <tr style=\"text-align: right;\">\n",
       "      <th></th>\n",
       "      <th>album_title</th>\n",
       "      <th>artist_name</th>\n",
       "      <th>genre</th>\n",
       "      <th>track_title</th>\n",
       "    </tr>\n",
       "    <tr>\n",
       "      <th>track_id</th>\n",
       "      <th></th>\n",
       "      <th></th>\n",
       "      <th></th>\n",
       "      <th></th>\n",
       "    </tr>\n",
       "  </thead>\n",
       "  <tbody>\n",
       "    <tr>\n",
       "      <th>153</th>\n",
       "      <td>Arc and Sender</td>\n",
       "      <td>Arc and Sender</td>\n",
       "      <td>Rock</td>\n",
       "      <td>Hundred-Year Flood</td>\n",
       "    </tr>\n",
       "    <tr>\n",
       "      <th>154</th>\n",
       "      <td>Arc and Sender</td>\n",
       "      <td>Arc and Sender</td>\n",
       "      <td>Rock</td>\n",
       "      <td>Squares And Circles</td>\n",
       "    </tr>\n",
       "    <tr>\n",
       "      <th>155</th>\n",
       "      <td>unreleased demo</td>\n",
       "      <td>Arc and Sender</td>\n",
       "      <td>Rock</td>\n",
       "      <td>Maps of the Stars Homes</td>\n",
       "    </tr>\n",
       "    <tr>\n",
       "      <th>169</th>\n",
       "      <td>Boss of Goth</td>\n",
       "      <td>Argumentix</td>\n",
       "      <td>Rock</td>\n",
       "      <td>Boss of Goth</td>\n",
       "    </tr>\n",
       "    <tr>\n",
       "      <th>170</th>\n",
       "      <td>Nightmarcher</td>\n",
       "      <td>Argumentix</td>\n",
       "      <td>Rock</td>\n",
       "      <td>Industry Standard Massacre</td>\n",
       "    </tr>\n",
       "  </tbody>\n",
       "</table>\n",
       "</div>"
      ],
      "text/plain": [
       "              album_title     artist_name genre                 track_title\n",
       "track_id                                                                   \n",
       "153        Arc and Sender  Arc and Sender  Rock          Hundred-Year Flood\n",
       "154        Arc and Sender  Arc and Sender  Rock         Squares And Circles\n",
       "155       unreleased demo  Arc and Sender  Rock     Maps of the Stars Homes\n",
       "169          Boss of Goth      Argumentix  Rock                Boss of Goth\n",
       "170          Nightmarcher      Argumentix  Rock  Industry Standard Massacre"
      ]
     },
     "execution_count": 37,
     "metadata": {},
     "output_type": "execute_result"
    }
   ],
   "source": [
    "ge_re.head()"
   ]
  },
  {
   "cell_type": "code",
   "execution_count": 38,
   "metadata": {},
   "outputs": [
    {
     "data": {
      "text/html": [
       "<div>\n",
       "<style scoped>\n",
       "    .dataframe tbody tr th:only-of-type {\n",
       "        vertical-align: middle;\n",
       "    }\n",
       "\n",
       "    .dataframe tbody tr th {\n",
       "        vertical-align: top;\n",
       "    }\n",
       "\n",
       "    .dataframe thead th {\n",
       "        text-align: right;\n",
       "    }\n",
       "</style>\n",
       "<table border=\"1\" class=\"dataframe\">\n",
       "  <thead>\n",
       "    <tr style=\"text-align: right;\">\n",
       "      <th></th>\n",
       "      <th>album_title</th>\n",
       "      <th>artist_name</th>\n",
       "      <th>genre</th>\n",
       "      <th>track_title</th>\n",
       "    </tr>\n",
       "    <tr>\n",
       "      <th>track_id</th>\n",
       "      <th></th>\n",
       "      <th></th>\n",
       "      <th></th>\n",
       "      <th></th>\n",
       "    </tr>\n",
       "  </thead>\n",
       "  <tbody>\n",
       "    <tr>\n",
       "      <th>24419</th>\n",
       "      <td>Free Beats Sel. 3</td>\n",
       "      <td>Black Ant</td>\n",
       "      <td>HipHop</td>\n",
       "      <td>8bit2 3</td>\n",
       "    </tr>\n",
       "    <tr>\n",
       "      <th>24421</th>\n",
       "      <td>Free Beats Sel. 3</td>\n",
       "      <td>Black Ant</td>\n",
       "      <td>HipHop</td>\n",
       "      <td>Black Ant</td>\n",
       "    </tr>\n",
       "    <tr>\n",
       "      <th>24422</th>\n",
       "      <td>Free Beats Sel. 3</td>\n",
       "      <td>Black Ant</td>\n",
       "      <td>HipHop</td>\n",
       "      <td>Boomerang</td>\n",
       "    </tr>\n",
       "    <tr>\n",
       "      <th>24423</th>\n",
       "      <td>Free Beats Sel. 3</td>\n",
       "      <td>Black Ant</td>\n",
       "      <td>HipHop</td>\n",
       "      <td>D8M3</td>\n",
       "    </tr>\n",
       "    <tr>\n",
       "      <th>24424</th>\n",
       "      <td>Free Beats Sel. 3</td>\n",
       "      <td>Black Ant</td>\n",
       "      <td>HipHop</td>\n",
       "      <td>fACEMELTERmp3</td>\n",
       "    </tr>\n",
       "    <tr>\n",
       "      <th>24425</th>\n",
       "      <td>Free Beats Sel. 3</td>\n",
       "      <td>Black Ant</td>\n",
       "      <td>HipHop</td>\n",
       "      <td>Fater Lee</td>\n",
       "    </tr>\n",
       "    <tr>\n",
       "      <th>24426</th>\n",
       "      <td>Free Beats Sel. 3</td>\n",
       "      <td>Black Ant</td>\n",
       "      <td>HipHop</td>\n",
       "      <td>government funded weed</td>\n",
       "    </tr>\n",
       "    <tr>\n",
       "      <th>24427</th>\n",
       "      <td>Free Beats Sel. 3</td>\n",
       "      <td>Black Ant</td>\n",
       "      <td>HipHop</td>\n",
       "      <td>Michael Vendette</td>\n",
       "    </tr>\n",
       "    <tr>\n",
       "      <th>24428</th>\n",
       "      <td>Free Beats Sel. 3</td>\n",
       "      <td>Black Ant</td>\n",
       "      <td>HipHop</td>\n",
       "      <td>Underdog</td>\n",
       "    </tr>\n",
       "    <tr>\n",
       "      <th>24429</th>\n",
       "      <td>Free Beats Sel. 3</td>\n",
       "      <td>Black Ant</td>\n",
       "      <td>HipHop</td>\n",
       "      <td>Oh K.</td>\n",
       "    </tr>\n",
       "  </tbody>\n",
       "</table>\n",
       "</div>"
      ],
      "text/plain": [
       "                album_title artist_name   genre             track_title\n",
       "track_id                                                               \n",
       "24419     Free Beats Sel. 3   Black Ant  HipHop                 8bit2 3\n",
       "24421     Free Beats Sel. 3   Black Ant  HipHop               Black Ant\n",
       "24422     Free Beats Sel. 3   Black Ant  HipHop               Boomerang\n",
       "24423     Free Beats Sel. 3   Black Ant  HipHop                    D8M3\n",
       "24424     Free Beats Sel. 3   Black Ant  HipHop           fACEMELTERmp3\n",
       "24425     Free Beats Sel. 3   Black Ant  HipHop               Fater Lee\n",
       "24426     Free Beats Sel. 3   Black Ant  HipHop  government funded weed\n",
       "24427     Free Beats Sel. 3   Black Ant  HipHop        Michael Vendette\n",
       "24428     Free Beats Sel. 3   Black Ant  HipHop                Underdog\n",
       "24429     Free Beats Sel. 3   Black Ant  HipHop                   Oh K."
      ]
     },
     "execution_count": 38,
     "metadata": {},
     "output_type": "execute_result"
    }
   ],
   "source": [
    "ge_ar.head(10)"
   ]
  },
  {
   "cell_type": "code",
   "execution_count": 39,
   "metadata": {},
   "outputs": [
    {
     "data": {
      "text/html": [
       "<div>\n",
       "<style scoped>\n",
       "    .dataframe tbody tr th:only-of-type {\n",
       "        vertical-align: middle;\n",
       "    }\n",
       "\n",
       "    .dataframe tbody tr th {\n",
       "        vertical-align: top;\n",
       "    }\n",
       "\n",
       "    .dataframe thead th {\n",
       "        text-align: right;\n",
       "    }\n",
       "</style>\n",
       "<table border=\"1\" class=\"dataframe\">\n",
       "  <thead>\n",
       "    <tr style=\"text-align: right;\">\n",
       "      <th></th>\n",
       "      <th>album_title</th>\n",
       "      <th>artist_name</th>\n",
       "      <th>genre</th>\n",
       "      <th>track_title</th>\n",
       "    </tr>\n",
       "    <tr>\n",
       "      <th>track_id</th>\n",
       "      <th></th>\n",
       "      <th></th>\n",
       "      <th></th>\n",
       "      <th></th>\n",
       "    </tr>\n",
       "  </thead>\n",
       "  <tbody>\n",
       "    <tr>\n",
       "      <th>19546</th>\n",
       "      <td>Live at WFMU on Talk's Cheap 10/13/2009</td>\n",
       "      <td>The Fresh &amp; Onlys</td>\n",
       "      <td>AvantGarde|International|</td>\n",
       "      <td>Endless Love</td>\n",
       "    </tr>\n",
       "    <tr>\n",
       "      <th>19589</th>\n",
       "      <td>Antique Phonograph Music Program 10/06/2009</td>\n",
       "      <td>Gene Rodimichs Orchestra</td>\n",
       "      <td>OldTime|Historic</td>\n",
       "      <td>Home Again Blues</td>\n",
       "    </tr>\n",
       "    <tr>\n",
       "      <th>21524</th>\n",
       "      <td>Live at WFMU on Brian Turner's show 11/24/2009</td>\n",
       "      <td>The Axemen</td>\n",
       "      <td>Rock</td>\n",
       "      <td>Church of the Loosely Brethren</td>\n",
       "    </tr>\n",
       "    <tr>\n",
       "      <th>3563</th>\n",
       "      <td>Live at WFMU on OCDJ's Show on 7/23/2003</td>\n",
       "      <td>Dan Deacon</td>\n",
       "      <td>Electronic</td>\n",
       "      <td>Sine Wave With Vocals</td>\n",
       "    </tr>\n",
       "    <tr>\n",
       "      <th>11306</th>\n",
       "      <td>Universal Mind Decoder</td>\n",
       "      <td>Abunai!</td>\n",
       "      <td>Rock</td>\n",
       "      <td>Inspiration</td>\n",
       "    </tr>\n",
       "    <tr>\n",
       "      <th>4685</th>\n",
       "      <td>Live at WFMU on Mike's Show on 9/25/2004</td>\n",
       "      <td>Dälek</td>\n",
       "      <td>HipHop</td>\n",
       "      <td>Ever Somber</td>\n",
       "    </tr>\n",
       "    <tr>\n",
       "      <th>4244</th>\n",
       "      <td>Live at WFMU on Joe Belock's Show on 7/19/2001</td>\n",
       "      <td>Steve Wynn</td>\n",
       "      <td>Rock</td>\n",
       "      <td>Southern California Line</td>\n",
       "    </tr>\n",
       "    <tr>\n",
       "      <th>720</th>\n",
       "      <td>Take A hit</td>\n",
       "      <td>Fuzz Unlimited</td>\n",
       "      <td>Rock</td>\n",
       "      <td>Camera Shy</td>\n",
       "    </tr>\n",
       "    <tr>\n",
       "      <th>793</th>\n",
       "      <td>Quickies</td>\n",
       "      <td>Glove Compartment</td>\n",
       "      <td>Rock</td>\n",
       "      <td>The Hymn of the Honeymoon</td>\n",
       "    </tr>\n",
       "    <tr>\n",
       "      <th>1087</th>\n",
       "      <td>Kontpab</td>\n",
       "      <td>Mahjongg</td>\n",
       "      <td>Rock</td>\n",
       "      <td>Tell The Police The Truth</td>\n",
       "    </tr>\n",
       "  </tbody>\n",
       "</table>\n",
       "</div>"
      ],
      "text/plain": [
       "                                             album_title  \\\n",
       "track_id                                                   \n",
       "19546            Live at WFMU on Talk's Cheap 10/13/2009   \n",
       "19589        Antique Phonograph Music Program 10/06/2009   \n",
       "21524     Live at WFMU on Brian Turner's show 11/24/2009   \n",
       "3563            Live at WFMU on OCDJ's Show on 7/23/2003   \n",
       "11306                             Universal Mind Decoder   \n",
       "4685            Live at WFMU on Mike's Show on 9/25/2004   \n",
       "4244      Live at WFMU on Joe Belock's Show on 7/19/2001   \n",
       "720                                           Take A hit   \n",
       "793                                             Quickies   \n",
       "1087                                             Kontpab   \n",
       "\n",
       "                       artist_name                      genre  \\\n",
       "track_id                                                        \n",
       "19546            The Fresh & Onlys  AvantGarde|International|   \n",
       "19589     Gene Rodimichs Orchestra           OldTime|Historic   \n",
       "21524                   The Axemen                       Rock   \n",
       "3563                    Dan Deacon                 Electronic   \n",
       "11306                      Abunai!                       Rock   \n",
       "4685                         Dälek                     HipHop   \n",
       "4244                    Steve Wynn                       Rock   \n",
       "720                 Fuzz Unlimited                       Rock   \n",
       "793              Glove Compartment                       Rock   \n",
       "1087                      Mahjongg                       Rock   \n",
       "\n",
       "                             track_title  \n",
       "track_id                                  \n",
       "19546                       Endless Love  \n",
       "19589                   Home Again Blues  \n",
       "21524     Church of the Loosely Brethren  \n",
       "3563               Sine Wave With Vocals  \n",
       "11306                        Inspiration  \n",
       "4685                         Ever Somber  \n",
       "4244            Southern California Line  \n",
       "720                           Camera Shy  \n",
       "793            The Hymn of the Honeymoon  \n",
       "1087           Tell The Police The Truth  "
      ]
     },
     "execution_count": 39,
     "metadata": {},
     "output_type": "execute_result"
    }
   ],
   "source": [
    "ge_mix.head(10)"
   ]
  },
  {
   "cell_type": "code",
   "execution_count": 40,
   "metadata": {},
   "outputs": [
    {
     "data": {
      "text/plain": [
       "(3892, 4)"
      ]
     },
     "execution_count": 40,
     "metadata": {},
     "output_type": "execute_result"
    }
   ],
   "source": [
    "ge_re.shape"
   ]
  },
  {
   "cell_type": "code",
   "execution_count": 41,
   "metadata": {},
   "outputs": [
    {
     "data": {
      "text/plain": [
       "(27, 4)"
      ]
     },
     "execution_count": 41,
     "metadata": {},
     "output_type": "execute_result"
    }
   ],
   "source": [
    "ge_ar.shape"
   ]
  },
  {
   "cell_type": "code",
   "execution_count": 42,
   "metadata": {},
   "outputs": [
    {
     "data": {
      "text/plain": [
       "(2832, 4)"
      ]
     },
     "execution_count": 42,
     "metadata": {},
     "output_type": "execute_result"
    }
   ],
   "source": [
    "ge_mix.shape"
   ]
  },
  {
   "cell_type": "code",
   "execution_count": null,
   "metadata": {},
   "outputs": [],
   "source": []
  },
  {
   "cell_type": "code",
   "execution_count": null,
   "metadata": {},
   "outputs": [],
   "source": []
  },
  {
   "cell_type": "code",
   "execution_count": null,
   "metadata": {},
   "outputs": [],
   "source": []
  }
 ],
 "metadata": {
  "kernelspec": {
   "display_name": "Python 3 (ipykernel)",
   "language": "python",
   "name": "python3"
  },
  "language_info": {
   "codemirror_mode": {
    "name": "ipython",
    "version": 3
   },
   "file_extension": ".py",
   "mimetype": "text/x-python",
   "name": "python",
   "nbconvert_exporter": "python",
   "pygments_lexer": "ipython3",
   "version": "3.10.9"
  }
 },
 "nbformat": 4,
 "nbformat_minor": 2
}
